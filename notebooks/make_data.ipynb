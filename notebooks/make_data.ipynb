{
 "cells": [
  {
   "cell_type": "code",
   "execution_count": 1,
   "metadata": {},
   "outputs": [],
   "source": [
    "%load_ext autoreload\n",
    "%autoreload 2\n",
    "\n",
    "import sys\n",
    "sys.path.insert(0, '..')"
   ]
  },
  {
   "cell_type": "code",
   "execution_count": 2,
   "metadata": {},
   "outputs": [
    {
     "name": "stdout",
     "output_type": "stream",
     "text": [
      "Populating the interactive namespace from numpy and matplotlib\n"
     ]
    }
   ],
   "source": [
    "%pylab inline\n",
    "\n",
    "import xarray as xr\n",
    "import seaflux as sf\n",
    "import fetch_data as fd"
   ]
  },
  {
   "cell_type": "code",
   "execution_count": 3,
   "metadata": {},
   "outputs": [],
   "source": [
    "from seaflux.data import jra55"
   ]
  },
  {
   "cell_type": "code",
   "execution_count": 4,
   "metadata": {},
   "outputs": [],
   "source": [
    "from seaflux.data import pco2atm"
   ]
  },
  {
   "cell_type": "code",
   "execution_count": 8,
   "metadata": {},
   "outputs": [
    {
     "name": "stdout",
     "output_type": "stream",
     "text": [
      "[SeaFlux] Downloading https://gml.noaa.gov/ccgg/mbl/tmp/co2_GHGreference.743281269_surface.txt to ../data/raw//co2_GHGreference_surface.txt and reading in as pd.DataFrame\n",
      "[SeaFlux] Converting pd.DataFrame to xr.DataArray\n",
      "[SeaFlux] Converting xCO2 to pCO2\n",
      "[SeaFlux] Interpolating missing year from previous years\n",
      "[SeaFlux] Saving pco2atm to ../data/output/SeaFlux_v2021.02_pco2atm_1982-2019.nc\n"
     ]
    },
    {
     "data": {
      "text/plain": [
       "PosixPath('../data/output/SeaFlux_v2021.02_pco2atm_1982-2019.nc')"
      ]
     },
     "execution_count": 8,
     "metadata": {},
     "output_type": "execute_result"
    }
   ],
   "source": [
    "pco2atm.main('https://gml.noaa.gov/ccgg/mbl/tmp/co2_GHGreference.743281269_surface.txt')"
   ]
  },
  {
   "cell_type": "code",
   "execution_count": null,
   "metadata": {},
   "outputs": [],
   "source": []
  },
  {
   "cell_type": "code",
   "execution_count": 7,
   "metadata": {},
   "outputs": [],
   "source": [
    "from seaflux.data import aux_vars as aux"
   ]
  },
  {
   "cell_type": "code",
   "execution_count": null,
   "metadata": {},
   "outputs": [],
   "source": [
    "salt = aux.download_salinity(cat[\"en4_g10\"], f\"{processed_dest}/en4_salt_temp.nc\")\n",
    "temp = aux.download_sst_ice(cat[\"oisst_v2\"], f\"{processed_dest}/noaa_oisst_sst_icec.nc\")\n",
    "pres = aux.download_era5_slp(\n",
    "    download_dest=cat[\"era5_mslp\"][\"dest\"],\n",
    "    process_dest=f\"{processed_dest}/era5_mslp_monthly.nc\",\n",
    ")"
   ]
  },
  {
   "cell_type": "code",
   "execution_count": 13,
   "metadata": {
    "collapsed": true,
    "jupyter": {
     "outputs_hidden": true
    },
    "tags": []
   },
   "outputs": [
    {
     "name": "stdout",
     "output_type": "stream",
     "text": [
      "File does not exist: ../data/processed/jra55_wind_speed_moments_1982-2020.nc\n"
     ]
    },
    {
     "name": "stderr",
     "output_type": "stream",
     "text": [
      "2021-04-15 08:51:57 [fetch_data]  retrieving http://rda.ucar.edu/data/ds628.0/anl_surf/1982/anl_surf.033_ugrd.reg_tl319.1982010100_1982123118\n",
      "2021-04-15 08:51:57 [fetch_data]  retrieving http://rda.ucar.edu/data/ds628.0/anl_surf/1982/anl_surf.034_vgrd.reg_tl319.1982010100_1982123118\n",
      "2021-04-15 08:51:57 [fetch_data]  retrieving http://rda.ucar.edu/data/ds628.0/anl_surf/1983/anl_surf.033_ugrd.reg_tl319.1983010100_1983123118\n",
      "2021-04-15 08:51:57 [fetch_data]  retrieving http://rda.ucar.edu/data/ds628.0/anl_surf/1983/anl_surf.034_vgrd.reg_tl319.1983010100_1983123118\n",
      "2021-04-15 08:51:58 [fetch_data]  retrieving http://rda.ucar.edu/data/ds628.0/anl_surf/1984/anl_surf.033_ugrd.reg_tl319.1984010100_1984123118\n",
      "2021-04-15 08:51:58 [fetch_data]  retrieving http://rda.ucar.edu/data/ds628.0/anl_surf/1984/anl_surf.034_vgrd.reg_tl319.1984010100_1984123118\n",
      "2021-04-15 08:51:58 [fetch_data]  retrieving http://rda.ucar.edu/data/ds628.0/anl_surf/1985/anl_surf.033_ugrd.reg_tl319.1985010100_1985123118\n",
      "2021-04-15 08:51:58 [fetch_data]  retrieving http://rda.ucar.edu/data/ds628.0/anl_surf/1985/anl_surf.034_vgrd.reg_tl319.1985010100_1985123118\n",
      "2021-04-15 08:51:58 [fetch_data]  retrieving http://rda.ucar.edu/data/ds628.0/anl_surf/1986/anl_surf.033_ugrd.reg_tl319.1986010100_1986123118\n",
      "2021-04-15 08:51:58 [fetch_data]  retrieving http://rda.ucar.edu/data/ds628.0/anl_surf/1986/anl_surf.034_vgrd.reg_tl319.1986010100_1986123118\n",
      "2021-04-15 08:51:58 [fetch_data]  retrieving http://rda.ucar.edu/data/ds628.0/anl_surf/1987/anl_surf.033_ugrd.reg_tl319.1987010100_1987123118\n",
      "2021-04-15 08:51:58 [fetch_data]  retrieving http://rda.ucar.edu/data/ds628.0/anl_surf/1987/anl_surf.034_vgrd.reg_tl319.1987010100_1987123118\n",
      "2021-04-15 08:51:58 [fetch_data]  retrieving http://rda.ucar.edu/data/ds628.0/anl_surf/1988/anl_surf.033_ugrd.reg_tl319.1988010100_1988123118\n",
      "2021-04-15 08:51:58 [fetch_data]  retrieving http://rda.ucar.edu/data/ds628.0/anl_surf/1988/anl_surf.034_vgrd.reg_tl319.1988010100_1988123118\n",
      "2021-04-15 08:51:58 [fetch_data]  retrieving http://rda.ucar.edu/data/ds628.0/anl_surf/1989/anl_surf.033_ugrd.reg_tl319.1989010100_1989123118\n",
      "2021-04-15 08:51:58 [fetch_data]  retrieving http://rda.ucar.edu/data/ds628.0/anl_surf/1989/anl_surf.034_vgrd.reg_tl319.1989010100_1989123118\n",
      "2021-04-15 08:51:58 [fetch_data]  retrieving http://rda.ucar.edu/data/ds628.0/anl_surf/1990/anl_surf.033_ugrd.reg_tl319.1990010100_1990123118\n",
      "2021-04-15 08:51:58 [fetch_data]  retrieving http://rda.ucar.edu/data/ds628.0/anl_surf/1990/anl_surf.034_vgrd.reg_tl319.1990010100_1990123118\n",
      "2021-04-15 08:51:58 [fetch_data]  retrieving http://rda.ucar.edu/data/ds628.0/anl_surf/1991/anl_surf.033_ugrd.reg_tl319.1991010100_1991123118\n",
      "2021-04-15 08:51:58 [fetch_data]  retrieving http://rda.ucar.edu/data/ds628.0/anl_surf/1991/anl_surf.034_vgrd.reg_tl319.1991010100_1991123118\n",
      "2021-04-15 08:51:59 [fetch_data]  retrieving http://rda.ucar.edu/data/ds628.0/anl_surf/1992/anl_surf.033_ugrd.reg_tl319.1992010100_1992123118\n",
      "2021-04-15 08:51:59 [fetch_data]  retrieving http://rda.ucar.edu/data/ds628.0/anl_surf/1992/anl_surf.034_vgrd.reg_tl319.1992010100_1992123118\n",
      "2021-04-15 08:51:59 [fetch_data]  retrieving http://rda.ucar.edu/data/ds628.0/anl_surf/1993/anl_surf.033_ugrd.reg_tl319.1993010100_1993123118\n",
      "2021-04-15 08:51:59 [fetch_data]  retrieving http://rda.ucar.edu/data/ds628.0/anl_surf/1993/anl_surf.034_vgrd.reg_tl319.1993010100_1993123118\n",
      "2021-04-15 08:51:59 [fetch_data]  retrieving http://rda.ucar.edu/data/ds628.0/anl_surf/1994/anl_surf.033_ugrd.reg_tl319.1994010100_1994123118\n",
      "2021-04-15 08:51:59 [fetch_data]  retrieving http://rda.ucar.edu/data/ds628.0/anl_surf/1994/anl_surf.034_vgrd.reg_tl319.1994010100_1994123118\n",
      "2021-04-15 08:51:59 [fetch_data]  retrieving http://rda.ucar.edu/data/ds628.0/anl_surf/1995/anl_surf.033_ugrd.reg_tl319.1995010100_1995123118\n",
      "2021-04-15 08:51:59 [fetch_data]  retrieving http://rda.ucar.edu/data/ds628.0/anl_surf/1995/anl_surf.034_vgrd.reg_tl319.1995010100_1995123118\n",
      "2021-04-15 08:51:59 [fetch_data]  retrieving http://rda.ucar.edu/data/ds628.0/anl_surf/1996/anl_surf.033_ugrd.reg_tl319.1996010100_1996123118\n",
      "2021-04-15 08:51:59 [fetch_data]  retrieving http://rda.ucar.edu/data/ds628.0/anl_surf/1996/anl_surf.034_vgrd.reg_tl319.1996010100_1996123118\n",
      "2021-04-15 08:51:59 [fetch_data]  retrieving http://rda.ucar.edu/data/ds628.0/anl_surf/1997/anl_surf.033_ugrd.reg_tl319.1997010100_1997123118\n",
      "2021-04-15 08:51:59 [fetch_data]  retrieving http://rda.ucar.edu/data/ds628.0/anl_surf/1997/anl_surf.034_vgrd.reg_tl319.1997010100_1997123118\n",
      "2021-04-15 08:51:59 [fetch_data]  retrieving http://rda.ucar.edu/data/ds628.0/anl_surf/1998/anl_surf.033_ugrd.reg_tl319.1998010100_1998123118\n",
      "2021-04-15 08:51:59 [fetch_data]  retrieving http://rda.ucar.edu/data/ds628.0/anl_surf/1998/anl_surf.034_vgrd.reg_tl319.1998010100_1998123118\n",
      "2021-04-15 08:51:59 [fetch_data]  retrieving http://rda.ucar.edu/data/ds628.0/anl_surf/1999/anl_surf.033_ugrd.reg_tl319.1999010100_1999123118\n",
      "2021-04-15 08:51:59 [fetch_data]  retrieving http://rda.ucar.edu/data/ds628.0/anl_surf/1999/anl_surf.034_vgrd.reg_tl319.1999010100_1999123118\n",
      "2021-04-15 08:52:00 [fetch_data]  retrieving http://rda.ucar.edu/data/ds628.0/anl_surf/2000/anl_surf.033_ugrd.reg_tl319.2000010100_2000123118\n",
      "2021-04-15 08:52:00 [fetch_data]  retrieving http://rda.ucar.edu/data/ds628.0/anl_surf/2000/anl_surf.034_vgrd.reg_tl319.2000010100_2000123118\n",
      "2021-04-15 08:52:00 [fetch_data]  retrieving http://rda.ucar.edu/data/ds628.0/anl_surf/2001/anl_surf.033_ugrd.reg_tl319.2001010100_2001123118\n",
      "2021-04-15 08:52:00 [fetch_data]  retrieving http://rda.ucar.edu/data/ds628.0/anl_surf/2001/anl_surf.034_vgrd.reg_tl319.2001010100_2001123118\n",
      "2021-04-15 08:52:00 [fetch_data]  retrieving http://rda.ucar.edu/data/ds628.0/anl_surf/2002/anl_surf.033_ugrd.reg_tl319.2002010100_2002123118\n",
      "2021-04-15 08:52:00 [fetch_data]  retrieving http://rda.ucar.edu/data/ds628.0/anl_surf/2002/anl_surf.034_vgrd.reg_tl319.2002010100_2002123118\n",
      "2021-04-15 08:52:00 [fetch_data]  retrieving http://rda.ucar.edu/data/ds628.0/anl_surf/2003/anl_surf.033_ugrd.reg_tl319.2003010100_2003123118\n",
      "2021-04-15 08:52:00 [fetch_data]  retrieving http://rda.ucar.edu/data/ds628.0/anl_surf/2003/anl_surf.034_vgrd.reg_tl319.2003010100_2003123118\n",
      "2021-04-15 08:52:00 [fetch_data]  retrieving http://rda.ucar.edu/data/ds628.0/anl_surf/2004/anl_surf.033_ugrd.reg_tl319.2004010100_2004123118\n",
      "2021-04-15 08:52:00 [fetch_data]  retrieving http://rda.ucar.edu/data/ds628.0/anl_surf/2004/anl_surf.034_vgrd.reg_tl319.2004010100_2004123118\n",
      "2021-04-15 08:52:00 [fetch_data]  retrieving http://rda.ucar.edu/data/ds628.0/anl_surf/2005/anl_surf.033_ugrd.reg_tl319.2005010100_2005123118\n",
      "2021-04-15 08:52:00 [fetch_data]  retrieving http://rda.ucar.edu/data/ds628.0/anl_surf/2005/anl_surf.034_vgrd.reg_tl319.2005010100_2005123118\n",
      "2021-04-15 08:52:00 [fetch_data]  retrieving http://rda.ucar.edu/data/ds628.0/anl_surf/2006/anl_surf.033_ugrd.reg_tl319.2006010100_2006123118\n",
      "2021-04-15 08:52:00 [fetch_data]  retrieving http://rda.ucar.edu/data/ds628.0/anl_surf/2006/anl_surf.034_vgrd.reg_tl319.2006010100_2006123118\n",
      "2021-04-15 08:52:01 [fetch_data]  retrieving http://rda.ucar.edu/data/ds628.0/anl_surf/2007/anl_surf.033_ugrd.reg_tl319.2007010100_2007123118\n",
      "2021-04-15 08:52:01 [fetch_data]  retrieving http://rda.ucar.edu/data/ds628.0/anl_surf/2007/anl_surf.034_vgrd.reg_tl319.2007010100_2007123118\n",
      "2021-04-15 08:52:01 [fetch_data]  retrieving http://rda.ucar.edu/data/ds628.0/anl_surf/2008/anl_surf.033_ugrd.reg_tl319.2008010100_2008123118\n",
      "2021-04-15 08:52:01 [fetch_data]  retrieving http://rda.ucar.edu/data/ds628.0/anl_surf/2008/anl_surf.034_vgrd.reg_tl319.2008010100_2008123118\n",
      "2021-04-15 08:52:01 [fetch_data]  retrieving http://rda.ucar.edu/data/ds628.0/anl_surf/2009/anl_surf.033_ugrd.reg_tl319.2009010100_2009123118\n",
      "2021-04-15 08:52:01 [fetch_data]  retrieving http://rda.ucar.edu/data/ds628.0/anl_surf/2009/anl_surf.034_vgrd.reg_tl319.2009010100_2009123118\n",
      "2021-04-15 08:52:01 [fetch_data]  retrieving http://rda.ucar.edu/data/ds628.0/anl_surf/2010/anl_surf.033_ugrd.reg_tl319.2010010100_2010123118\n",
      "2021-04-15 08:52:01 [fetch_data]  retrieving http://rda.ucar.edu/data/ds628.0/anl_surf/2010/anl_surf.034_vgrd.reg_tl319.2010010100_2010123118\n",
      "2021-04-15 08:52:01 [fetch_data]  retrieving http://rda.ucar.edu/data/ds628.0/anl_surf/2011/anl_surf.033_ugrd.reg_tl319.2011010100_2011123118\n",
      "2021-04-15 08:52:01 [fetch_data]  retrieving http://rda.ucar.edu/data/ds628.0/anl_surf/2011/anl_surf.034_vgrd.reg_tl319.2011010100_2011123118\n",
      "2021-04-15 08:52:01 [fetch_data]  retrieving http://rda.ucar.edu/data/ds628.0/anl_surf/2012/anl_surf.033_ugrd.reg_tl319.2012010100_2012123118\n",
      "2021-04-15 08:52:01 [fetch_data]  retrieving http://rda.ucar.edu/data/ds628.0/anl_surf/2012/anl_surf.034_vgrd.reg_tl319.2012010100_2012123118\n",
      "2021-04-15 08:52:01 [fetch_data]  retrieving http://rda.ucar.edu/data/ds628.0/anl_surf/2013/anl_surf.033_ugrd.reg_tl319.2013010100_2013123118\n",
      "2021-04-15 08:52:01 [fetch_data]  retrieving http://rda.ucar.edu/data/ds628.0/anl_surf/2013/anl_surf.034_vgrd.reg_tl319.2013010100_2013123118\n",
      "2021-04-15 08:52:01 [fetch_data]  retrieving http://rda.ucar.edu/data/ds628.0/anl_surf/2014/anl_surf.033_ugrd.reg_tl319.2014010100_2014013118\n",
      "2021-04-15 08:52:01 [fetch_data]  retrieving http://rda.ucar.edu/data/ds628.0/anl_surf/2014/anl_surf.034_vgrd.reg_tl319.2014010100_2014013118\n",
      "2021-04-15 08:52:01 [fetch_data]  retrieving http://rda.ucar.edu/data/ds628.0/anl_surf/2014/anl_surf.033_ugrd.reg_tl319.2014020100_2014022818\n",
      "2021-04-15 08:52:01 [fetch_data]  retrieving http://rda.ucar.edu/data/ds628.0/anl_surf/2014/anl_surf.034_vgrd.reg_tl319.2014020100_2014022818\n",
      "2021-04-15 08:52:01 [fetch_data]  retrieving http://rda.ucar.edu/data/ds628.0/anl_surf/2014/anl_surf.033_ugrd.reg_tl319.2014030100_2014033118\n",
      "2021-04-15 08:52:01 [fetch_data]  retrieving http://rda.ucar.edu/data/ds628.0/anl_surf/2014/anl_surf.034_vgrd.reg_tl319.2014030100_2014033118\n",
      "2021-04-15 08:52:01 [fetch_data]  retrieving http://rda.ucar.edu/data/ds628.0/anl_surf/2014/anl_surf.033_ugrd.reg_tl319.2014040100_2014043018\n",
      "2021-04-15 08:52:01 [fetch_data]  retrieving http://rda.ucar.edu/data/ds628.0/anl_surf/2014/anl_surf.034_vgrd.reg_tl319.2014040100_2014043018\n",
      "2021-04-15 08:52:02 [fetch_data]  retrieving http://rda.ucar.edu/data/ds628.0/anl_surf/2014/anl_surf.033_ugrd.reg_tl319.2014050100_2014053118\n",
      "2021-04-15 08:52:02 [fetch_data]  retrieving http://rda.ucar.edu/data/ds628.0/anl_surf/2014/anl_surf.034_vgrd.reg_tl319.2014050100_2014053118\n",
      "2021-04-15 08:52:02 [fetch_data]  retrieving http://rda.ucar.edu/data/ds628.0/anl_surf/2014/anl_surf.033_ugrd.reg_tl319.2014060100_2014063018\n",
      "2021-04-15 08:52:02 [fetch_data]  retrieving http://rda.ucar.edu/data/ds628.0/anl_surf/2014/anl_surf.034_vgrd.reg_tl319.2014060100_2014063018\n",
      "2021-04-15 08:52:02 [fetch_data]  retrieving http://rda.ucar.edu/data/ds628.0/anl_surf/2014/anl_surf.033_ugrd.reg_tl319.2014070100_2014073118\n",
      "2021-04-15 08:52:02 [fetch_data]  retrieving http://rda.ucar.edu/data/ds628.0/anl_surf/2014/anl_surf.034_vgrd.reg_tl319.2014070100_2014073118\n",
      "2021-04-15 08:52:02 [fetch_data]  retrieving http://rda.ucar.edu/data/ds628.0/anl_surf/2014/anl_surf.033_ugrd.reg_tl319.2014080100_2014083118\n",
      "2021-04-15 08:52:02 [fetch_data]  retrieving http://rda.ucar.edu/data/ds628.0/anl_surf/2014/anl_surf.034_vgrd.reg_tl319.2014080100_2014083118\n",
      "2021-04-15 08:52:02 [fetch_data]  retrieving http://rda.ucar.edu/data/ds628.0/anl_surf/2014/anl_surf.033_ugrd.reg_tl319.2014090100_2014093018\n",
      "2021-04-15 08:52:02 [fetch_data]  retrieving http://rda.ucar.edu/data/ds628.0/anl_surf/2014/anl_surf.034_vgrd.reg_tl319.2014090100_2014093018\n",
      "2021-04-15 08:52:02 [fetch_data]  retrieving http://rda.ucar.edu/data/ds628.0/anl_surf/2014/anl_surf.033_ugrd.reg_tl319.2014100100_2014103118\n",
      "2021-04-15 08:52:02 [fetch_data]  retrieving http://rda.ucar.edu/data/ds628.0/anl_surf/2014/anl_surf.034_vgrd.reg_tl319.2014100100_2014103118\n",
      "2021-04-15 08:52:02 [fetch_data]  retrieving http://rda.ucar.edu/data/ds628.0/anl_surf/2014/anl_surf.033_ugrd.reg_tl319.2014110100_2014113018\n",
      "2021-04-15 08:52:02 [fetch_data]  retrieving http://rda.ucar.edu/data/ds628.0/anl_surf/2014/anl_surf.034_vgrd.reg_tl319.2014110100_2014113018\n",
      "2021-04-15 08:52:02 [fetch_data]  retrieving http://rda.ucar.edu/data/ds628.0/anl_surf/2014/anl_surf.033_ugrd.reg_tl319.2014120100_2014123118\n",
      "2021-04-15 08:52:02 [fetch_data]  retrieving http://rda.ucar.edu/data/ds628.0/anl_surf/2014/anl_surf.034_vgrd.reg_tl319.2014120100_2014123118\n",
      "2021-04-15 08:52:02 [fetch_data]  retrieving http://rda.ucar.edu/data/ds628.0/anl_surf/2015/anl_surf.033_ugrd.reg_tl319.2015010100_2015013118\n",
      "2021-04-15 08:52:02 [fetch_data]  retrieving http://rda.ucar.edu/data/ds628.0/anl_surf/2015/anl_surf.034_vgrd.reg_tl319.2015010100_2015013118\n",
      "2021-04-15 08:52:02 [fetch_data]  retrieving http://rda.ucar.edu/data/ds628.0/anl_surf/2015/anl_surf.033_ugrd.reg_tl319.2015020100_2015022818\n",
      "2021-04-15 08:52:02 [fetch_data]  retrieving http://rda.ucar.edu/data/ds628.0/anl_surf/2015/anl_surf.034_vgrd.reg_tl319.2015020100_2015022818\n",
      "2021-04-15 08:52:02 [fetch_data]  retrieving http://rda.ucar.edu/data/ds628.0/anl_surf/2015/anl_surf.033_ugrd.reg_tl319.2015030100_2015033118\n",
      "2021-04-15 08:52:02 [fetch_data]  retrieving http://rda.ucar.edu/data/ds628.0/anl_surf/2015/anl_surf.034_vgrd.reg_tl319.2015030100_2015033118\n",
      "2021-04-15 08:52:02 [fetch_data]  retrieving http://rda.ucar.edu/data/ds628.0/anl_surf/2015/anl_surf.033_ugrd.reg_tl319.2015040100_2015043018\n",
      "2021-04-15 08:52:02 [fetch_data]  retrieving http://rda.ucar.edu/data/ds628.0/anl_surf/2015/anl_surf.034_vgrd.reg_tl319.2015040100_2015043018\n",
      "2021-04-15 08:52:02 [fetch_data]  retrieving http://rda.ucar.edu/data/ds628.0/anl_surf/2015/anl_surf.033_ugrd.reg_tl319.2015050100_2015053118\n",
      "2021-04-15 08:52:02 [fetch_data]  retrieving http://rda.ucar.edu/data/ds628.0/anl_surf/2015/anl_surf.034_vgrd.reg_tl319.2015050100_2015053118\n",
      "2021-04-15 08:52:02 [fetch_data]  retrieving http://rda.ucar.edu/data/ds628.0/anl_surf/2015/anl_surf.033_ugrd.reg_tl319.2015060100_2015063018\n",
      "2021-04-15 08:52:02 [fetch_data]  retrieving http://rda.ucar.edu/data/ds628.0/anl_surf/2015/anl_surf.034_vgrd.reg_tl319.2015060100_2015063018\n",
      "2021-04-15 08:52:02 [fetch_data]  retrieving http://rda.ucar.edu/data/ds628.0/anl_surf/2015/anl_surf.033_ugrd.reg_tl319.2015070100_2015073118\n",
      "2021-04-15 08:52:02 [fetch_data]  retrieving http://rda.ucar.edu/data/ds628.0/anl_surf/2015/anl_surf.034_vgrd.reg_tl319.2015070100_2015073118\n",
      "2021-04-15 08:52:02 [fetch_data]  retrieving http://rda.ucar.edu/data/ds628.0/anl_surf/2015/anl_surf.033_ugrd.reg_tl319.2015080100_2015083118\n",
      "2021-04-15 08:52:02 [fetch_data]  retrieving http://rda.ucar.edu/data/ds628.0/anl_surf/2015/anl_surf.034_vgrd.reg_tl319.2015080100_2015083118\n",
      "2021-04-15 08:52:02 [fetch_data]  retrieving http://rda.ucar.edu/data/ds628.0/anl_surf/2015/anl_surf.033_ugrd.reg_tl319.2015090100_2015093018\n",
      "2021-04-15 08:52:02 [fetch_data]  retrieving http://rda.ucar.edu/data/ds628.0/anl_surf/2015/anl_surf.034_vgrd.reg_tl319.2015090100_2015093018\n",
      "2021-04-15 08:52:02 [fetch_data]  retrieving http://rda.ucar.edu/data/ds628.0/anl_surf/2015/anl_surf.033_ugrd.reg_tl319.2015100100_2015103118\n",
      "2021-04-15 08:52:02 [fetch_data]  retrieving http://rda.ucar.edu/data/ds628.0/anl_surf/2015/anl_surf.034_vgrd.reg_tl319.2015100100_2015103118\n",
      "2021-04-15 08:52:02 [fetch_data]  retrieving http://rda.ucar.edu/data/ds628.0/anl_surf/2015/anl_surf.033_ugrd.reg_tl319.2015110100_2015113018\n",
      "2021-04-15 08:52:02 [fetch_data]  retrieving http://rda.ucar.edu/data/ds628.0/anl_surf/2015/anl_surf.034_vgrd.reg_tl319.2015110100_2015113018\n",
      "2021-04-15 08:52:02 [fetch_data]  retrieving http://rda.ucar.edu/data/ds628.0/anl_surf/2015/anl_surf.033_ugrd.reg_tl319.2015120100_2015123118\n",
      "2021-04-15 08:52:02 [fetch_data]  retrieving http://rda.ucar.edu/data/ds628.0/anl_surf/2015/anl_surf.034_vgrd.reg_tl319.2015120100_2015123118\n",
      "2021-04-15 08:52:02 [fetch_data]  retrieving http://rda.ucar.edu/data/ds628.0/anl_surf/2016/anl_surf.033_ugrd.reg_tl319.2016010100_2016013118\n",
      "2021-04-15 08:52:02 [fetch_data]  retrieving http://rda.ucar.edu/data/ds628.0/anl_surf/2016/anl_surf.034_vgrd.reg_tl319.2016010100_2016013118\n",
      "2021-04-15 08:52:02 [fetch_data]  retrieving http://rda.ucar.edu/data/ds628.0/anl_surf/2016/anl_surf.033_ugrd.reg_tl319.2016020100_2016022918\n",
      "2021-04-15 08:52:02 [fetch_data]  retrieving http://rda.ucar.edu/data/ds628.0/anl_surf/2016/anl_surf.034_vgrd.reg_tl319.2016020100_2016022918\n",
      "2021-04-15 08:52:02 [fetch_data]  retrieving http://rda.ucar.edu/data/ds628.0/anl_surf/2016/anl_surf.033_ugrd.reg_tl319.2016030100_2016033118\n",
      "2021-04-15 08:52:02 [fetch_data]  retrieving http://rda.ucar.edu/data/ds628.0/anl_surf/2016/anl_surf.034_vgrd.reg_tl319.2016030100_2016033118\n",
      "2021-04-15 08:52:02 [fetch_data]  retrieving http://rda.ucar.edu/data/ds628.0/anl_surf/2016/anl_surf.033_ugrd.reg_tl319.2016040100_2016043018\n",
      "2021-04-15 08:52:02 [fetch_data]  retrieving http://rda.ucar.edu/data/ds628.0/anl_surf/2016/anl_surf.034_vgrd.reg_tl319.2016040100_2016043018\n",
      "2021-04-15 08:52:02 [fetch_data]  retrieving http://rda.ucar.edu/data/ds628.0/anl_surf/2016/anl_surf.033_ugrd.reg_tl319.2016050100_2016053118\n",
      "2021-04-15 08:52:02 [fetch_data]  retrieving http://rda.ucar.edu/data/ds628.0/anl_surf/2016/anl_surf.034_vgrd.reg_tl319.2016050100_2016053118\n",
      "2021-04-15 08:52:02 [fetch_data]  retrieving http://rda.ucar.edu/data/ds628.0/anl_surf/2016/anl_surf.033_ugrd.reg_tl319.2016060100_2016063018\n",
      "2021-04-15 08:52:02 [fetch_data]  retrieving http://rda.ucar.edu/data/ds628.0/anl_surf/2016/anl_surf.034_vgrd.reg_tl319.2016060100_2016063018\n",
      "2021-04-15 08:52:02 [fetch_data]  retrieving http://rda.ucar.edu/data/ds628.0/anl_surf/2016/anl_surf.033_ugrd.reg_tl319.2016070100_2016073118\n",
      "2021-04-15 08:52:02 [fetch_data]  retrieving http://rda.ucar.edu/data/ds628.0/anl_surf/2016/anl_surf.034_vgrd.reg_tl319.2016070100_2016073118\n",
      "2021-04-15 08:52:02 [fetch_data]  retrieving http://rda.ucar.edu/data/ds628.0/anl_surf/2016/anl_surf.033_ugrd.reg_tl319.2016080100_2016083118\n",
      "2021-04-15 08:52:02 [fetch_data]  retrieving http://rda.ucar.edu/data/ds628.0/anl_surf/2016/anl_surf.034_vgrd.reg_tl319.2016080100_2016083118\n",
      "2021-04-15 08:52:02 [fetch_data]  retrieving http://rda.ucar.edu/data/ds628.0/anl_surf/2016/anl_surf.033_ugrd.reg_tl319.2016090100_2016093018\n",
      "2021-04-15 08:52:02 [fetch_data]  retrieving http://rda.ucar.edu/data/ds628.0/anl_surf/2016/anl_surf.034_vgrd.reg_tl319.2016090100_2016093018\n",
      "2021-04-15 08:52:02 [fetch_data]  retrieving http://rda.ucar.edu/data/ds628.0/anl_surf/2016/anl_surf.033_ugrd.reg_tl319.2016100100_2016103118\n",
      "2021-04-15 08:52:02 [fetch_data]  retrieving http://rda.ucar.edu/data/ds628.0/anl_surf/2016/anl_surf.034_vgrd.reg_tl319.2016100100_2016103118\n",
      "2021-04-15 08:52:02 [fetch_data]  retrieving http://rda.ucar.edu/data/ds628.0/anl_surf/2016/anl_surf.033_ugrd.reg_tl319.2016110100_2016113018\n",
      "2021-04-15 08:52:02 [fetch_data]  retrieving http://rda.ucar.edu/data/ds628.0/anl_surf/2016/anl_surf.034_vgrd.reg_tl319.2016110100_2016113018\n",
      "2021-04-15 08:52:02 [fetch_data]  retrieving http://rda.ucar.edu/data/ds628.0/anl_surf/2016/anl_surf.033_ugrd.reg_tl319.2016120100_2016123118\n",
      "2021-04-15 08:52:02 [fetch_data]  retrieving http://rda.ucar.edu/data/ds628.0/anl_surf/2016/anl_surf.034_vgrd.reg_tl319.2016120100_2016123118\n",
      "2021-04-15 08:52:02 [fetch_data]  retrieving http://rda.ucar.edu/data/ds628.0/anl_surf/2017/anl_surf.033_ugrd.reg_tl319.2017010100_2017013118\n",
      "2021-04-15 08:52:02 [fetch_data]  retrieving http://rda.ucar.edu/data/ds628.0/anl_surf/2017/anl_surf.034_vgrd.reg_tl319.2017010100_2017013118\n",
      "2021-04-15 08:52:02 [fetch_data]  retrieving http://rda.ucar.edu/data/ds628.0/anl_surf/2017/anl_surf.033_ugrd.reg_tl319.2017020100_2017022818\n",
      "2021-04-15 08:52:02 [fetch_data]  retrieving http://rda.ucar.edu/data/ds628.0/anl_surf/2017/anl_surf.034_vgrd.reg_tl319.2017020100_2017022818\n",
      "2021-04-15 08:52:02 [fetch_data]  retrieving http://rda.ucar.edu/data/ds628.0/anl_surf/2017/anl_surf.033_ugrd.reg_tl319.2017030100_2017033118\n",
      "2021-04-15 08:52:02 [fetch_data]  retrieving http://rda.ucar.edu/data/ds628.0/anl_surf/2017/anl_surf.034_vgrd.reg_tl319.2017030100_2017033118\n",
      "2021-04-15 08:52:02 [fetch_data]  retrieving http://rda.ucar.edu/data/ds628.0/anl_surf/2017/anl_surf.033_ugrd.reg_tl319.2017040100_2017043018\n",
      "2021-04-15 08:52:02 [fetch_data]  retrieving http://rda.ucar.edu/data/ds628.0/anl_surf/2017/anl_surf.034_vgrd.reg_tl319.2017040100_2017043018\n",
      "2021-04-15 08:52:02 [fetch_data]  retrieving http://rda.ucar.edu/data/ds628.0/anl_surf/2017/anl_surf.033_ugrd.reg_tl319.2017050100_2017053118\n",
      "2021-04-15 08:52:02 [fetch_data]  retrieving http://rda.ucar.edu/data/ds628.0/anl_surf/2017/anl_surf.034_vgrd.reg_tl319.2017050100_2017053118\n",
      "2021-04-15 08:52:02 [fetch_data]  retrieving http://rda.ucar.edu/data/ds628.0/anl_surf/2017/anl_surf.033_ugrd.reg_tl319.2017060100_2017063018\n",
      "2021-04-15 08:52:02 [fetch_data]  retrieving http://rda.ucar.edu/data/ds628.0/anl_surf/2017/anl_surf.034_vgrd.reg_tl319.2017060100_2017063018\n",
      "2021-04-15 08:52:02 [fetch_data]  retrieving http://rda.ucar.edu/data/ds628.0/anl_surf/2017/anl_surf.033_ugrd.reg_tl319.2017070100_2017073118\n",
      "2021-04-15 08:52:02 [fetch_data]  retrieving http://rda.ucar.edu/data/ds628.0/anl_surf/2017/anl_surf.034_vgrd.reg_tl319.2017070100_2017073118\n",
      "2021-04-15 08:52:02 [fetch_data]  retrieving http://rda.ucar.edu/data/ds628.0/anl_surf/2017/anl_surf.033_ugrd.reg_tl319.2017080100_2017083118\n",
      "2021-04-15 08:52:02 [fetch_data]  retrieving http://rda.ucar.edu/data/ds628.0/anl_surf/2017/anl_surf.034_vgrd.reg_tl319.2017080100_2017083118\n",
      "2021-04-15 08:52:02 [fetch_data]  retrieving http://rda.ucar.edu/data/ds628.0/anl_surf/2017/anl_surf.033_ugrd.reg_tl319.2017090100_2017093018\n",
      "2021-04-15 08:52:02 [fetch_data]  retrieving http://rda.ucar.edu/data/ds628.0/anl_surf/2017/anl_surf.034_vgrd.reg_tl319.2017090100_2017093018\n",
      "2021-04-15 08:52:02 [fetch_data]  retrieving http://rda.ucar.edu/data/ds628.0/anl_surf/2017/anl_surf.033_ugrd.reg_tl319.2017100100_2017103118\n",
      "2021-04-15 08:52:02 [fetch_data]  retrieving http://rda.ucar.edu/data/ds628.0/anl_surf/2017/anl_surf.034_vgrd.reg_tl319.2017100100_2017103118\n",
      "2021-04-15 08:52:02 [fetch_data]  retrieving http://rda.ucar.edu/data/ds628.0/anl_surf/2017/anl_surf.033_ugrd.reg_tl319.2017110100_2017113018\n",
      "2021-04-15 08:52:02 [fetch_data]  retrieving http://rda.ucar.edu/data/ds628.0/anl_surf/2017/anl_surf.034_vgrd.reg_tl319.2017110100_2017113018\n",
      "2021-04-15 08:52:02 [fetch_data]  retrieving http://rda.ucar.edu/data/ds628.0/anl_surf/2017/anl_surf.033_ugrd.reg_tl319.2017120100_2017123118\n",
      "2021-04-15 08:52:02 [fetch_data]  retrieving http://rda.ucar.edu/data/ds628.0/anl_surf/2017/anl_surf.034_vgrd.reg_tl319.2017120100_2017123118\n",
      "2021-04-15 08:52:02 [fetch_data]  retrieving http://rda.ucar.edu/data/ds628.0/anl_surf/2018/anl_surf.033_ugrd.reg_tl319.2018010100_2018013118\n",
      "2021-04-15 08:52:02 [fetch_data]  retrieving http://rda.ucar.edu/data/ds628.0/anl_surf/2018/anl_surf.034_vgrd.reg_tl319.2018010100_2018013118\n",
      "2021-04-15 08:52:02 [fetch_data]  retrieving http://rda.ucar.edu/data/ds628.0/anl_surf/2018/anl_surf.033_ugrd.reg_tl319.2018020100_2018022818\n",
      "2021-04-15 08:52:02 [fetch_data]  retrieving http://rda.ucar.edu/data/ds628.0/anl_surf/2018/anl_surf.034_vgrd.reg_tl319.2018020100_2018022818\n",
      "2021-04-15 08:52:02 [fetch_data]  retrieving http://rda.ucar.edu/data/ds628.0/anl_surf/2018/anl_surf.033_ugrd.reg_tl319.2018030100_2018033118\n",
      "2021-04-15 08:52:02 [fetch_data]  retrieving http://rda.ucar.edu/data/ds628.0/anl_surf/2018/anl_surf.034_vgrd.reg_tl319.2018030100_2018033118\n",
      "2021-04-15 08:52:02 [fetch_data]  retrieving http://rda.ucar.edu/data/ds628.0/anl_surf/2018/anl_surf.033_ugrd.reg_tl319.2018040100_2018043018\n",
      "2021-04-15 08:52:02 [fetch_data]  retrieving http://rda.ucar.edu/data/ds628.0/anl_surf/2018/anl_surf.034_vgrd.reg_tl319.2018040100_2018043018\n",
      "2021-04-15 08:52:02 [fetch_data]  retrieving http://rda.ucar.edu/data/ds628.0/anl_surf/2018/anl_surf.033_ugrd.reg_tl319.2018050100_2018053118\n",
      "2021-04-15 08:52:02 [fetch_data]  retrieving http://rda.ucar.edu/data/ds628.0/anl_surf/2018/anl_surf.034_vgrd.reg_tl319.2018050100_2018053118\n",
      "2021-04-15 08:52:02 [fetch_data]  retrieving http://rda.ucar.edu/data/ds628.0/anl_surf/2018/anl_surf.033_ugrd.reg_tl319.2018060100_2018063018\n",
      "2021-04-15 08:52:02 [fetch_data]  retrieving http://rda.ucar.edu/data/ds628.0/anl_surf/2018/anl_surf.034_vgrd.reg_tl319.2018060100_2018063018\n",
      "2021-04-15 08:52:02 [fetch_data]  retrieving http://rda.ucar.edu/data/ds628.0/anl_surf/2018/anl_surf.033_ugrd.reg_tl319.2018070100_2018073118\n",
      "2021-04-15 08:52:02 [fetch_data]  retrieving http://rda.ucar.edu/data/ds628.0/anl_surf/2018/anl_surf.034_vgrd.reg_tl319.2018070100_2018073118\n",
      "2021-04-15 08:52:02 [fetch_data]  retrieving http://rda.ucar.edu/data/ds628.0/anl_surf/2018/anl_surf.033_ugrd.reg_tl319.2018080100_2018083118\n",
      "2021-04-15 08:52:02 [fetch_data]  retrieving http://rda.ucar.edu/data/ds628.0/anl_surf/2018/anl_surf.034_vgrd.reg_tl319.2018080100_2018083118\n",
      "2021-04-15 08:52:02 [fetch_data]  retrieving http://rda.ucar.edu/data/ds628.0/anl_surf/2018/anl_surf.033_ugrd.reg_tl319.2018090100_2018093018\n",
      "2021-04-15 08:52:02 [fetch_data]  retrieving http://rda.ucar.edu/data/ds628.0/anl_surf/2018/anl_surf.034_vgrd.reg_tl319.2018090100_2018093018\n",
      "2021-04-15 08:52:02 [fetch_data]  retrieving http://rda.ucar.edu/data/ds628.0/anl_surf/2018/anl_surf.033_ugrd.reg_tl319.2018100100_2018103118\n",
      "2021-04-15 08:52:02 [fetch_data]  retrieving http://rda.ucar.edu/data/ds628.0/anl_surf/2018/anl_surf.034_vgrd.reg_tl319.2018100100_2018103118\n",
      "2021-04-15 08:52:02 [fetch_data]  retrieving http://rda.ucar.edu/data/ds628.0/anl_surf/2018/anl_surf.033_ugrd.reg_tl319.2018110100_2018113018\n",
      "2021-04-15 08:52:02 [fetch_data]  retrieving http://rda.ucar.edu/data/ds628.0/anl_surf/2018/anl_surf.034_vgrd.reg_tl319.2018110100_2018113018\n",
      "2021-04-15 08:52:02 [fetch_data]  retrieving http://rda.ucar.edu/data/ds628.0/anl_surf/2018/anl_surf.033_ugrd.reg_tl319.2018120100_2018123118\n",
      "2021-04-15 08:52:02 [fetch_data]  retrieving http://rda.ucar.edu/data/ds628.0/anl_surf/2018/anl_surf.034_vgrd.reg_tl319.2018120100_2018123118\n",
      "2021-04-15 08:52:02 [fetch_data]  retrieving http://rda.ucar.edu/data/ds628.0/anl_surf/2019/anl_surf.033_ugrd.reg_tl319.2019010100_2019013118\n",
      "2021-04-15 08:52:02 [fetch_data]  retrieving http://rda.ucar.edu/data/ds628.0/anl_surf/2019/anl_surf.034_vgrd.reg_tl319.2019010100_2019013118\n",
      "2021-04-15 08:52:02 [fetch_data]  retrieving http://rda.ucar.edu/data/ds628.0/anl_surf/2019/anl_surf.033_ugrd.reg_tl319.2019020100_2019022818\n",
      "2021-04-15 08:52:02 [fetch_data]  retrieving http://rda.ucar.edu/data/ds628.0/anl_surf/2019/anl_surf.034_vgrd.reg_tl319.2019020100_2019022818\n",
      "2021-04-15 08:52:02 [fetch_data]  retrieving http://rda.ucar.edu/data/ds628.0/anl_surf/2019/anl_surf.033_ugrd.reg_tl319.2019030100_2019033118\n",
      "2021-04-15 08:52:02 [fetch_data]  retrieving http://rda.ucar.edu/data/ds628.0/anl_surf/2019/anl_surf.034_vgrd.reg_tl319.2019030100_2019033118\n",
      "2021-04-15 08:52:02 [fetch_data]  retrieving http://rda.ucar.edu/data/ds628.0/anl_surf/2019/anl_surf.033_ugrd.reg_tl319.2019040100_2019043018\n",
      "2021-04-15 08:52:02 [fetch_data]  retrieving http://rda.ucar.edu/data/ds628.0/anl_surf/2019/anl_surf.034_vgrd.reg_tl319.2019040100_2019043018\n",
      "2021-04-15 08:52:02 [fetch_data]  retrieving http://rda.ucar.edu/data/ds628.0/anl_surf/2019/anl_surf.033_ugrd.reg_tl319.2019050100_2019053118\n",
      "2021-04-15 08:52:02 [fetch_data]  retrieving http://rda.ucar.edu/data/ds628.0/anl_surf/2019/anl_surf.034_vgrd.reg_tl319.2019050100_2019053118\n",
      "2021-04-15 08:52:02 [fetch_data]  retrieving http://rda.ucar.edu/data/ds628.0/anl_surf/2019/anl_surf.033_ugrd.reg_tl319.2019060100_2019063018\n",
      "2021-04-15 08:52:02 [fetch_data]  retrieving http://rda.ucar.edu/data/ds628.0/anl_surf/2019/anl_surf.034_vgrd.reg_tl319.2019060100_2019063018\n",
      "2021-04-15 08:52:02 [fetch_data]  retrieving http://rda.ucar.edu/data/ds628.0/anl_surf/2019/anl_surf.033_ugrd.reg_tl319.2019070100_2019073118\n",
      "2021-04-15 08:52:02 [fetch_data]  retrieving http://rda.ucar.edu/data/ds628.0/anl_surf/2019/anl_surf.034_vgrd.reg_tl319.2019070100_2019073118\n",
      "2021-04-15 08:52:02 [fetch_data]  retrieving http://rda.ucar.edu/data/ds628.0/anl_surf/2019/anl_surf.033_ugrd.reg_tl319.2019080100_2019083118\n",
      "2021-04-15 08:52:02 [fetch_data]  retrieving http://rda.ucar.edu/data/ds628.0/anl_surf/2019/anl_surf.034_vgrd.reg_tl319.2019080100_2019083118\n",
      "2021-04-15 08:52:02 [fetch_data]  retrieving http://rda.ucar.edu/data/ds628.0/anl_surf/2019/anl_surf.033_ugrd.reg_tl319.2019090100_2019093018\n",
      "2021-04-15 08:52:03 [fetch_data]  retrieving http://rda.ucar.edu/data/ds628.0/anl_surf/2019/anl_surf.034_vgrd.reg_tl319.2019090100_2019093018\n",
      "2021-04-15 08:52:03 [fetch_data]  retrieving http://rda.ucar.edu/data/ds628.0/anl_surf/2019/anl_surf.033_ugrd.reg_tl319.2019100100_2019103118\n",
      "2021-04-15 08:52:03 [fetch_data]  retrieving http://rda.ucar.edu/data/ds628.0/anl_surf/2019/anl_surf.034_vgrd.reg_tl319.2019100100_2019103118\n",
      "2021-04-15 08:52:03 [fetch_data]  retrieving http://rda.ucar.edu/data/ds628.0/anl_surf/2019/anl_surf.033_ugrd.reg_tl319.2019110100_2019113018\n",
      "2021-04-15 08:52:03 [fetch_data]  retrieving http://rda.ucar.edu/data/ds628.0/anl_surf/2019/anl_surf.034_vgrd.reg_tl319.2019110100_2019113018\n",
      "2021-04-15 08:52:03 [fetch_data]  retrieving http://rda.ucar.edu/data/ds628.0/anl_surf/2019/anl_surf.033_ugrd.reg_tl319.2019120100_2019123118\n",
      "2021-04-15 08:52:03 [fetch_data]  retrieving http://rda.ucar.edu/data/ds628.0/anl_surf/2019/anl_surf.034_vgrd.reg_tl319.2019120100_2019123118\n",
      "2021-04-15 08:52:03 [fetch_data]  retrieving http://rda.ucar.edu/data/ds628.0/anl_surf/2020/anl_surf.033_ugrd.reg_tl319.2020010100_2020013118\n",
      "2021-04-15 08:52:03 [fetch_data]  retrieving http://rda.ucar.edu/data/ds628.0/anl_surf/2020/anl_surf.034_vgrd.reg_tl319.2020010100_2020013118\n",
      "2021-04-15 08:52:03 [fetch_data]  retrieving http://rda.ucar.edu/data/ds628.0/anl_surf/2020/anl_surf.033_ugrd.reg_tl319.2020020100_2020022918\n",
      "2021-04-15 08:52:03 [fetch_data]  retrieving http://rda.ucar.edu/data/ds628.0/anl_surf/2020/anl_surf.034_vgrd.reg_tl319.2020020100_2020022918\n",
      "2021-04-15 08:52:03 [fetch_data]  retrieving http://rda.ucar.edu/data/ds628.0/anl_surf/2020/anl_surf.033_ugrd.reg_tl319.2020030100_2020033118\n",
      "2021-04-15 08:52:03 [fetch_data]  retrieving http://rda.ucar.edu/data/ds628.0/anl_surf/2020/anl_surf.034_vgrd.reg_tl319.2020030100_2020033118\n",
      "2021-04-15 08:52:03 [fetch_data]  retrieving http://rda.ucar.edu/data/ds628.0/anl_surf/2020/anl_surf.033_ugrd.reg_tl319.2020040100_2020043018\n",
      "2021-04-15 08:52:03 [fetch_data]  retrieving http://rda.ucar.edu/data/ds628.0/anl_surf/2020/anl_surf.034_vgrd.reg_tl319.2020040100_2020043018\n",
      "2021-04-15 08:52:03 [fetch_data]  retrieving http://rda.ucar.edu/data/ds628.0/anl_surf/2020/anl_surf.033_ugrd.reg_tl319.2020050100_2020053118\n",
      "2021-04-15 08:52:03 [fetch_data]  retrieving http://rda.ucar.edu/data/ds628.0/anl_surf/2020/anl_surf.034_vgrd.reg_tl319.2020050100_2020053118\n",
      "2021-04-15 08:52:03 [fetch_data]  retrieving http://rda.ucar.edu/data/ds628.0/anl_surf/2020/anl_surf.033_ugrd.reg_tl319.2020060100_2020063018\n",
      "2021-04-15 08:52:03 [fetch_data]  retrieving http://rda.ucar.edu/data/ds628.0/anl_surf/2020/anl_surf.034_vgrd.reg_tl319.2020060100_2020063018\n",
      "2021-04-15 08:52:03 [fetch_data]  retrieving http://rda.ucar.edu/data/ds628.0/anl_surf/2020/anl_surf.033_ugrd.reg_tl319.2020070100_2020073118\n",
      "2021-04-15 08:52:03 [fetch_data]  retrieving http://rda.ucar.edu/data/ds628.0/anl_surf/2020/anl_surf.034_vgrd.reg_tl319.2020070100_2020073118\n",
      "2021-04-15 08:52:03 [fetch_data]  retrieving http://rda.ucar.edu/data/ds628.0/anl_surf/2020/anl_surf.033_ugrd.reg_tl319.2020080100_2020083118\n",
      "2021-04-15 08:52:03 [fetch_data]  retrieving http://rda.ucar.edu/data/ds628.0/anl_surf/2020/anl_surf.034_vgrd.reg_tl319.2020080100_2020083118\n",
      "2021-04-15 08:52:03 [fetch_data]  retrieving http://rda.ucar.edu/data/ds628.0/anl_surf/2020/anl_surf.033_ugrd.reg_tl319.2020090100_2020093018\n",
      "2021-04-15 08:52:03 [fetch_data]  retrieving http://rda.ucar.edu/data/ds628.0/anl_surf/2020/anl_surf.034_vgrd.reg_tl319.2020090100_2020093018\n",
      "2021-04-15 08:52:03 [fetch_data]  retrieving http://rda.ucar.edu/data/ds628.0/anl_surf/2020/anl_surf.033_ugrd.reg_tl319.2020100100_2020103118\n",
      "2021-04-15 08:52:03 [fetch_data]  retrieving http://rda.ucar.edu/data/ds628.0/anl_surf/2020/anl_surf.034_vgrd.reg_tl319.2020100100_2020103118\n",
      "2021-04-15 08:52:03 [fetch_data]  retrieving http://rda.ucar.edu/data/ds628.0/anl_surf/2020/anl_surf.033_ugrd.reg_tl319.2020110100_2020113018\n",
      "2021-04-15 08:52:03 [fetch_data]  retrieving http://rda.ucar.edu/data/ds628.0/anl_surf/2020/anl_surf.034_vgrd.reg_tl319.2020110100_2020113018\n",
      "2021-04-15 08:52:03 [fetch_data]  retrieving http://rda.ucar.edu/data/ds628.0/anl_surf/2020/anl_surf.033_ugrd.reg_tl319.2020120100_2020123118\n",
      "2021-04-15 08:52:03 [fetch_data]  retrieving http://rda.ucar.edu/data/ds628.0/anl_surf/2020/anl_surf.034_vgrd.reg_tl319.2020120100_2020123118\n",
      "[Parallel(n_jobs=8)]: Using backend LokyBackend with 8 concurrent workers.\n",
      "[Parallel(n_jobs=8)]: Done  35 tasks      | elapsed:    2.5s\n",
      "[Parallel(n_jobs=8)]: Done 232 out of 232 | elapsed:    2.9s finished\n"
     ]
    },
    {
     "ename": "KeyboardInterrupt",
     "evalue": "",
     "output_type": "error",
     "traceback": [
      "\u001b[0;31m---------------------------------------------------------------------------\u001b[0m",
      "\u001b[0;31mKeyboardInterrupt\u001b[0m                         Traceback (most recent call last)",
      "\u001b[0;32m<ipython-input-13-df2f619f6f65>\u001b[0m in \u001b[0;36m<module>\u001b[0;34m\u001b[0m\n\u001b[1;32m      2\u001b[0m     \u001b[0mdownload_dest\u001b[0m\u001b[0;34m=\u001b[0m\u001b[0;34m'/home/gregorl/updata/jra-55/{file_format}/model_grid_6hr_anl_surf/{year}/'\u001b[0m\u001b[0;34m,\u001b[0m\u001b[0;34m\u001b[0m\u001b[0;34m\u001b[0m\u001b[0m\n\u001b[1;32m      3\u001b[0m     \u001b[0mverbose\u001b[0m\u001b[0;34m=\u001b[0m\u001b[0;36m25\u001b[0m\u001b[0;34m,\u001b[0m\u001b[0;34m\u001b[0m\u001b[0;34m\u001b[0m\u001b[0m\n\u001b[0;32m----> 4\u001b[0;31m     \u001b[0myears\u001b[0m\u001b[0;34m=\u001b[0m\u001b[0mrange\u001b[0m\u001b[0;34m(\u001b[0m\u001b[0;36m1982\u001b[0m\u001b[0;34m,\u001b[0m \u001b[0;36m2021\u001b[0m\u001b[0;34m)\u001b[0m\u001b[0;34m,\u001b[0m\u001b[0;34m\u001b[0m\u001b[0;34m\u001b[0m\u001b[0m\n\u001b[0m\u001b[1;32m      5\u001b[0m )\n",
      "\u001b[0;32m/UP_home/gregorl/Git/SeaFlux/seaflux/data/jra55.py\u001b[0m in \u001b[0;36mget_jra55_wind_speed\u001b[0;34m(url, download_dest, process_dest, years, verbose, n_jobs)\u001b[0m\n\u001b[1;32m    305\u001b[0m \u001b[0;34m\u001b[0m\u001b[0m\n\u001b[1;32m    306\u001b[0m     \u001b[0;32mwith\u001b[0m \u001b[0mProgressBar\u001b[0m\u001b[0;34m(\u001b[0m\u001b[0;34m)\u001b[0m\u001b[0;34m:\u001b[0m\u001b[0;34m\u001b[0m\u001b[0;34m\u001b[0m\u001b[0m\n\u001b[0;32m--> 307\u001b[0;31m         \u001b[0mwind_speed\u001b[0m \u001b[0;34m=\u001b[0m  \u001b[0mconcat\u001b[0m\u001b[0;34m(\u001b[0m\u001b[0mxds\u001b[0m\u001b[0;34m,\u001b[0m \u001b[0;34m'time'\u001b[0m\u001b[0;34m)\u001b[0m\u001b[0;34m.\u001b[0m\u001b[0mload\u001b[0m\u001b[0;34m(\u001b[0m\u001b[0;34m)\u001b[0m\u001b[0;34m\u001b[0m\u001b[0;34m\u001b[0m\u001b[0m\n\u001b[0m\u001b[1;32m    308\u001b[0m \u001b[0;34m\u001b[0m\u001b[0m\n\u001b[1;32m    309\u001b[0m     \u001b[0mprocess_dest\u001b[0m \u001b[0;34m=\u001b[0m \u001b[0mpath\u001b[0m\u001b[0;34m(\u001b[0m\u001b[0mprocess_dest\u001b[0m\u001b[0;34m)\u001b[0m\u001b[0;34m\u001b[0m\u001b[0;34m\u001b[0m\u001b[0m\n",
      "\u001b[0;32m~/.local/lib/python3.7/site-packages/xarray/core/dataset.py\u001b[0m in \u001b[0;36mload\u001b[0;34m(self, **kwargs)\u001b[0m\n\u001b[1;32m    739\u001b[0m \u001b[0;34m\u001b[0m\u001b[0m\n\u001b[1;32m    740\u001b[0m             \u001b[0;31m# evaluate all the dask arrays simultaneously\u001b[0m\u001b[0;34m\u001b[0m\u001b[0;34m\u001b[0m\u001b[0;34m\u001b[0m\u001b[0m\n\u001b[0;32m--> 741\u001b[0;31m             \u001b[0mevaluated_data\u001b[0m \u001b[0;34m=\u001b[0m \u001b[0mda\u001b[0m\u001b[0;34m.\u001b[0m\u001b[0mcompute\u001b[0m\u001b[0;34m(\u001b[0m\u001b[0;34m*\u001b[0m\u001b[0mlazy_data\u001b[0m\u001b[0;34m.\u001b[0m\u001b[0mvalues\u001b[0m\u001b[0;34m(\u001b[0m\u001b[0;34m)\u001b[0m\u001b[0;34m,\u001b[0m \u001b[0;34m**\u001b[0m\u001b[0mkwargs\u001b[0m\u001b[0;34m)\u001b[0m\u001b[0;34m\u001b[0m\u001b[0;34m\u001b[0m\u001b[0m\n\u001b[0m\u001b[1;32m    742\u001b[0m \u001b[0;34m\u001b[0m\u001b[0m\n\u001b[1;32m    743\u001b[0m             \u001b[0;32mfor\u001b[0m \u001b[0mk\u001b[0m\u001b[0;34m,\u001b[0m \u001b[0mdata\u001b[0m \u001b[0;32min\u001b[0m \u001b[0mzip\u001b[0m\u001b[0;34m(\u001b[0m\u001b[0mlazy_data\u001b[0m\u001b[0;34m,\u001b[0m \u001b[0mevaluated_data\u001b[0m\u001b[0;34m)\u001b[0m\u001b[0;34m:\u001b[0m\u001b[0;34m\u001b[0m\u001b[0;34m\u001b[0m\u001b[0m\n",
      "\u001b[0;32m/usr/local/Miniconda3-envs/envs/2020/envs/iacpy3_2020/lib/python3.7/site-packages/dask/base.py\u001b[0m in \u001b[0;36mcompute\u001b[0;34m(*args, **kwargs)\u001b[0m\n\u001b[1;32m    432\u001b[0m     )\n\u001b[1;32m    433\u001b[0m \u001b[0;34m\u001b[0m\u001b[0m\n\u001b[0;32m--> 434\u001b[0;31m     \u001b[0mdsk\u001b[0m \u001b[0;34m=\u001b[0m \u001b[0mcollections_to_dsk\u001b[0m\u001b[0;34m(\u001b[0m\u001b[0mcollections\u001b[0m\u001b[0;34m,\u001b[0m \u001b[0moptimize_graph\u001b[0m\u001b[0;34m,\u001b[0m \u001b[0;34m**\u001b[0m\u001b[0mkwargs\u001b[0m\u001b[0;34m)\u001b[0m\u001b[0;34m\u001b[0m\u001b[0;34m\u001b[0m\u001b[0m\n\u001b[0m\u001b[1;32m    435\u001b[0m     \u001b[0mkeys\u001b[0m \u001b[0;34m=\u001b[0m \u001b[0;34m[\u001b[0m\u001b[0mx\u001b[0m\u001b[0;34m.\u001b[0m\u001b[0m__dask_keys__\u001b[0m\u001b[0;34m(\u001b[0m\u001b[0;34m)\u001b[0m \u001b[0;32mfor\u001b[0m \u001b[0mx\u001b[0m \u001b[0;32min\u001b[0m \u001b[0mcollections\u001b[0m\u001b[0;34m]\u001b[0m\u001b[0;34m\u001b[0m\u001b[0;34m\u001b[0m\u001b[0m\n\u001b[1;32m    436\u001b[0m     \u001b[0mpostcomputes\u001b[0m \u001b[0;34m=\u001b[0m \u001b[0;34m[\u001b[0m\u001b[0mx\u001b[0m\u001b[0;34m.\u001b[0m\u001b[0m__dask_postcompute__\u001b[0m\u001b[0;34m(\u001b[0m\u001b[0;34m)\u001b[0m \u001b[0;32mfor\u001b[0m \u001b[0mx\u001b[0m \u001b[0;32min\u001b[0m \u001b[0mcollections\u001b[0m\u001b[0;34m]\u001b[0m\u001b[0;34m\u001b[0m\u001b[0;34m\u001b[0m\u001b[0m\n",
      "\u001b[0;32m/usr/local/Miniconda3-envs/envs/2020/envs/iacpy3_2020/lib/python3.7/site-packages/dask/base.py\u001b[0m in \u001b[0;36mcollections_to_dsk\u001b[0;34m(collections, optimize_graph, **kwargs)\u001b[0m\n\u001b[1;32m    218\u001b[0m             *map(\n\u001b[1;32m    219\u001b[0m                 \u001b[0mensure_dict\u001b[0m\u001b[0;34m,\u001b[0m\u001b[0;34m\u001b[0m\u001b[0;34m\u001b[0m\u001b[0m\n\u001b[0;32m--> 220\u001b[0;31m                 \u001b[0;34m[\u001b[0m\u001b[0mopt\u001b[0m\u001b[0;34m(\u001b[0m\u001b[0mdsk\u001b[0m\u001b[0;34m,\u001b[0m \u001b[0mkeys\u001b[0m\u001b[0;34m,\u001b[0m \u001b[0;34m**\u001b[0m\u001b[0mkwargs\u001b[0m\u001b[0;34m)\u001b[0m \u001b[0;32mfor\u001b[0m \u001b[0mopt\u001b[0m\u001b[0;34m,\u001b[0m \u001b[0;34m(\u001b[0m\u001b[0mdsk\u001b[0m\u001b[0;34m,\u001b[0m \u001b[0mkeys\u001b[0m\u001b[0;34m)\u001b[0m \u001b[0;32min\u001b[0m \u001b[0mgroups\u001b[0m\u001b[0;34m.\u001b[0m\u001b[0mitems\u001b[0m\u001b[0;34m(\u001b[0m\u001b[0;34m)\u001b[0m\u001b[0;34m]\u001b[0m\u001b[0;34m,\u001b[0m\u001b[0;34m\u001b[0m\u001b[0;34m\u001b[0m\u001b[0m\n\u001b[0m\u001b[1;32m    221\u001b[0m             )\n\u001b[1;32m    222\u001b[0m         )\n",
      "\u001b[0;32m/usr/local/Miniconda3-envs/envs/2020/envs/iacpy3_2020/lib/python3.7/site-packages/dask/base.py\u001b[0m in \u001b[0;36m<listcomp>\u001b[0;34m(.0)\u001b[0m\n\u001b[1;32m    218\u001b[0m             *map(\n\u001b[1;32m    219\u001b[0m                 \u001b[0mensure_dict\u001b[0m\u001b[0;34m,\u001b[0m\u001b[0;34m\u001b[0m\u001b[0;34m\u001b[0m\u001b[0m\n\u001b[0;32m--> 220\u001b[0;31m                 \u001b[0;34m[\u001b[0m\u001b[0mopt\u001b[0m\u001b[0;34m(\u001b[0m\u001b[0mdsk\u001b[0m\u001b[0;34m,\u001b[0m \u001b[0mkeys\u001b[0m\u001b[0;34m,\u001b[0m \u001b[0;34m**\u001b[0m\u001b[0mkwargs\u001b[0m\u001b[0;34m)\u001b[0m \u001b[0;32mfor\u001b[0m \u001b[0mopt\u001b[0m\u001b[0;34m,\u001b[0m \u001b[0;34m(\u001b[0m\u001b[0mdsk\u001b[0m\u001b[0;34m,\u001b[0m \u001b[0mkeys\u001b[0m\u001b[0;34m)\u001b[0m \u001b[0;32min\u001b[0m \u001b[0mgroups\u001b[0m\u001b[0;34m.\u001b[0m\u001b[0mitems\u001b[0m\u001b[0;34m(\u001b[0m\u001b[0;34m)\u001b[0m\u001b[0;34m]\u001b[0m\u001b[0;34m,\u001b[0m\u001b[0;34m\u001b[0m\u001b[0;34m\u001b[0m\u001b[0m\n\u001b[0m\u001b[1;32m    221\u001b[0m             )\n\u001b[1;32m    222\u001b[0m         )\n",
      "\u001b[0;32m/usr/local/Miniconda3-envs/envs/2020/envs/iacpy3_2020/lib/python3.7/site-packages/dask/array/optimization.py\u001b[0m in \u001b[0;36moptimize\u001b[0;34m(dsk, keys, fuse_keys, fast_functions, inline_functions_fast_functions, rename_fused_keys, **kwargs)\u001b[0m\n\u001b[1;32m     48\u001b[0m         \u001b[0minline_functions_fast_functions\u001b[0m \u001b[0;34m=\u001b[0m \u001b[0mfast_functions\u001b[0m\u001b[0;34m\u001b[0m\u001b[0;34m\u001b[0m\u001b[0m\n\u001b[1;32m     49\u001b[0m \u001b[0;34m\u001b[0m\u001b[0m\n\u001b[0;32m---> 50\u001b[0;31m     \u001b[0mdsk2\u001b[0m\u001b[0;34m,\u001b[0m \u001b[0mdependencies\u001b[0m \u001b[0;34m=\u001b[0m \u001b[0mcull\u001b[0m\u001b[0;34m(\u001b[0m\u001b[0mdsk\u001b[0m\u001b[0;34m,\u001b[0m \u001b[0mkeys\u001b[0m\u001b[0;34m)\u001b[0m\u001b[0;34m\u001b[0m\u001b[0;34m\u001b[0m\u001b[0m\n\u001b[0m\u001b[1;32m     51\u001b[0m     \u001b[0mhold\u001b[0m \u001b[0;34m=\u001b[0m \u001b[0mhold_keys\u001b[0m\u001b[0;34m(\u001b[0m\u001b[0mdsk2\u001b[0m\u001b[0;34m,\u001b[0m \u001b[0mdependencies\u001b[0m\u001b[0;34m)\u001b[0m\u001b[0;34m\u001b[0m\u001b[0;34m\u001b[0m\u001b[0m\n\u001b[1;32m     52\u001b[0m \u001b[0;34m\u001b[0m\u001b[0m\n",
      "\u001b[0;32m/usr/local/Miniconda3-envs/envs/2020/envs/iacpy3_2020/lib/python3.7/site-packages/dask/optimization.py\u001b[0m in \u001b[0;36mcull\u001b[0;34m(dsk, keys)\u001b[0m\n\u001b[1;32m     49\u001b[0m         deps = [\n\u001b[1;32m     50\u001b[0m             \u001b[0;34m(\u001b[0m\u001b[0mk\u001b[0m\u001b[0;34m,\u001b[0m \u001b[0mget_dependencies\u001b[0m\u001b[0;34m(\u001b[0m\u001b[0mdsk\u001b[0m\u001b[0;34m,\u001b[0m \u001b[0mk\u001b[0m\u001b[0;34m,\u001b[0m \u001b[0mas_list\u001b[0m\u001b[0;34m=\u001b[0m\u001b[0;32mTrue\u001b[0m\u001b[0;34m)\u001b[0m\u001b[0;34m)\u001b[0m  \u001b[0;31m# fuse needs lists\u001b[0m\u001b[0;34m\u001b[0m\u001b[0;34m\u001b[0m\u001b[0m\n\u001b[0;32m---> 51\u001b[0;31m             \u001b[0;32mfor\u001b[0m \u001b[0mk\u001b[0m \u001b[0;32min\u001b[0m \u001b[0mwork\u001b[0m\u001b[0;34m\u001b[0m\u001b[0;34m\u001b[0m\u001b[0m\n\u001b[0m\u001b[1;32m     52\u001b[0m         ]\n\u001b[1;32m     53\u001b[0m         \u001b[0mdependencies\u001b[0m\u001b[0;34m.\u001b[0m\u001b[0mupdate\u001b[0m\u001b[0;34m(\u001b[0m\u001b[0mdeps\u001b[0m\u001b[0;34m)\u001b[0m\u001b[0;34m\u001b[0m\u001b[0;34m\u001b[0m\u001b[0m\n",
      "\u001b[0;32m/usr/local/Miniconda3-envs/envs/2020/envs/iacpy3_2020/lib/python3.7/site-packages/dask/optimization.py\u001b[0m in \u001b[0;36m<listcomp>\u001b[0;34m(.0)\u001b[0m\n\u001b[1;32m     49\u001b[0m         deps = [\n\u001b[1;32m     50\u001b[0m             \u001b[0;34m(\u001b[0m\u001b[0mk\u001b[0m\u001b[0;34m,\u001b[0m \u001b[0mget_dependencies\u001b[0m\u001b[0;34m(\u001b[0m\u001b[0mdsk\u001b[0m\u001b[0;34m,\u001b[0m \u001b[0mk\u001b[0m\u001b[0;34m,\u001b[0m \u001b[0mas_list\u001b[0m\u001b[0;34m=\u001b[0m\u001b[0;32mTrue\u001b[0m\u001b[0;34m)\u001b[0m\u001b[0;34m)\u001b[0m  \u001b[0;31m# fuse needs lists\u001b[0m\u001b[0;34m\u001b[0m\u001b[0;34m\u001b[0m\u001b[0m\n\u001b[0;32m---> 51\u001b[0;31m             \u001b[0;32mfor\u001b[0m \u001b[0mk\u001b[0m \u001b[0;32min\u001b[0m \u001b[0mwork\u001b[0m\u001b[0;34m\u001b[0m\u001b[0;34m\u001b[0m\u001b[0m\n\u001b[0m\u001b[1;32m     52\u001b[0m         ]\n\u001b[1;32m     53\u001b[0m         \u001b[0mdependencies\u001b[0m\u001b[0;34m.\u001b[0m\u001b[0mupdate\u001b[0m\u001b[0;34m(\u001b[0m\u001b[0mdeps\u001b[0m\u001b[0;34m)\u001b[0m\u001b[0;34m\u001b[0m\u001b[0;34m\u001b[0m\u001b[0m\n",
      "\u001b[0;32m/usr/local/Miniconda3-envs/envs/2020/envs/iacpy3_2020/lib/python3.7/site-packages/dask/core.py\u001b[0m in \u001b[0;36mget_dependencies\u001b[0;34m(dsk, key, task, as_list)\u001b[0m\n\u001b[1;32m    198\u001b[0m     \u001b[0;32mwhile\u001b[0m \u001b[0mwork\u001b[0m\u001b[0;34m:\u001b[0m\u001b[0;34m\u001b[0m\u001b[0;34m\u001b[0m\u001b[0m\n\u001b[1;32m    199\u001b[0m         \u001b[0mnew_work\u001b[0m \u001b[0;34m=\u001b[0m \u001b[0;34m[\u001b[0m\u001b[0;34m]\u001b[0m\u001b[0;34m\u001b[0m\u001b[0;34m\u001b[0m\u001b[0m\n\u001b[0;32m--> 200\u001b[0;31m         \u001b[0;32mfor\u001b[0m \u001b[0mw\u001b[0m \u001b[0;32min\u001b[0m \u001b[0mwork\u001b[0m\u001b[0;34m:\u001b[0m\u001b[0;34m\u001b[0m\u001b[0;34m\u001b[0m\u001b[0m\n\u001b[0m\u001b[1;32m    201\u001b[0m             \u001b[0mtyp\u001b[0m \u001b[0;34m=\u001b[0m \u001b[0mtype\u001b[0m\u001b[0;34m(\u001b[0m\u001b[0mw\u001b[0m\u001b[0;34m)\u001b[0m\u001b[0;34m\u001b[0m\u001b[0;34m\u001b[0m\u001b[0m\n\u001b[1;32m    202\u001b[0m             \u001b[0;32mif\u001b[0m \u001b[0mtyp\u001b[0m \u001b[0;32mis\u001b[0m \u001b[0mtuple\u001b[0m \u001b[0;32mand\u001b[0m \u001b[0mw\u001b[0m \u001b[0;32mand\u001b[0m \u001b[0mcallable\u001b[0m\u001b[0;34m(\u001b[0m\u001b[0mw\u001b[0m\u001b[0;34m[\u001b[0m\u001b[0;36m0\u001b[0m\u001b[0;34m]\u001b[0m\u001b[0;34m)\u001b[0m\u001b[0;34m:\u001b[0m  \u001b[0;31m# istask(w)\u001b[0m\u001b[0;34m\u001b[0m\u001b[0;34m\u001b[0m\u001b[0m\n",
      "\u001b[0;31mKeyboardInterrupt\u001b[0m: "
     ]
    }
   ],
   "source": [
    "fname = jra55.get_jra55_wind_speed(\n",
    "    download_dest='/home/gregorl/updata/jra-55/{file_format}/model_grid_6hr_anl_surf/{year}/',\n",
    "    verbose=25, \n",
    "    years=range(1982, 2021),\n",
    ")"
   ]
  },
  {
   "cell_type": "code",
   "execution_count": 47,
   "metadata": {},
   "outputs": [],
   "source": [
    "from pathlib import Path as path"
   ]
  },
  {
   "cell_type": "code",
   "execution_count": 49,
   "metadata": {},
   "outputs": [],
   "source": [
    "p = path('../data/processed/jra55_wind_speed_moments.nc')"
   ]
  },
  {
   "cell_type": "code",
   "execution_count": 66,
   "metadata": {},
   "outputs": [],
   "source": [
    "years = range(1982, 2021)"
   ]
  },
  {
   "cell_type": "code",
   "execution_count": 67,
   "metadata": {},
   "outputs": [
    {
     "data": {
      "text/plain": [
       "PosixPath('../data/processed/jra55_wind_speed_moments_1982-2020.nc')"
      ]
     },
     "execution_count": 67,
     "metadata": {},
     "output_type": "execute_result"
    }
   ],
   "source": [
    "p.parent / f\"{p.stem}_{years[0]}-{years[-1]}{p.suffix}\""
   ]
  },
  {
   "cell_type": "code",
   "execution_count": 61,
   "metadata": {},
   "outputs": [
    {
     "data": {
      "text/plain": [
       "PosixPath('../data/processed')"
      ]
     },
     "execution_count": 61,
     "metadata": {},
     "output_type": "execute_result"
    }
   ],
   "source": []
  },
  {
   "cell_type": "code",
   "execution_count": null,
   "metadata": {},
   "outputs": [],
   "source": []
  }
 ],
 "metadata": {
  "kernelspec": {
   "display_name": "Python (iacpy3_2020)",
   "language": "python",
   "name": "iacpy3_2020"
  },
  "language_info": {
   "codemirror_mode": {
    "name": "ipython",
    "version": 3
   },
   "file_extension": ".py",
   "mimetype": "text/x-python",
   "name": "python",
   "nbconvert_exporter": "python",
   "pygments_lexer": "ipython3",
   "version": "3.7.6"
  }
 },
 "nbformat": 4,
 "nbformat_minor": 4
}
